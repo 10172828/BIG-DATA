{
  "nbformat": 4,
  "nbformat_minor": 0,
  "metadata": {
    "colab": {
      "provenance": [],
      "authorship_tag": "ABX9TyOqtHSYK9DHrVZEsX8n090a",
      "include_colab_link": true
    },
    "kernelspec": {
      "name": "python3",
      "display_name": "Python 3"
    },
    "language_info": {
      "name": "python"
    }
  },
  "cells": [
    {
      "cell_type": "markdown",
      "metadata": {
        "id": "view-in-github",
        "colab_type": "text"
      },
      "source": [
        "<a href=\"https://colab.research.google.com/github/10172828/BIG-DATA/blob/main/ASS1ipynb.ipynb\" target=\"_parent\"><img src=\"https://colab.research.google.com/assets/colab-badge.svg\" alt=\"Open In Colab\"/></a>"
      ]
    },
    {
      "cell_type": "code",
      "source": [
        "import numpy as np\n",
        "\n",
        "arr = np.array([1, 2, 3, 6, 4, 5])\n",
        "reversed_arr = arr[::-1]\n",
        "\n",
        "print(reversed_arr)\n",
        ""
      ],
      "metadata": {
        "colab": {
          "base_uri": "https://localhost:8080/"
        },
        "id": "arX-CD9tq_Si",
        "outputId": "55cee039-0be5-48f2-8e71-12ccd1539adc"
      },
      "execution_count": 4,
      "outputs": [
        {
          "output_type": "stream",
          "name": "stdout",
          "text": [
            "[5 4 6 3 2 1]\n"
          ]
        }
      ]
    },
    {
      "cell_type": "code",
      "source": [
        "arr1 = np.array([[1, 2], [3, 4]])\n",
        "arr2 = np.array([[1, 2], [3, 4]])\n",
        "\n",
        "equal = np.array_equal(arr1, arr2)\n",
        "\n",
        "print(f\"The arrays are equal: {equal}\")\n"
      ],
      "metadata": {
        "colab": {
          "base_uri": "https://localhost:8080/"
        },
        "id": "uGOuW7ynroyg",
        "outputId": "7791b4ff-9203-4cb0-a616-096bcc6770c5"
      },
      "execution_count": 6,
      "outputs": [
        {
          "output_type": "stream",
          "name": "stdout",
          "text": [
            "The arrays are equal: True\n"
          ]
        }
      ]
    },
    {
      "cell_type": "code",
      "source": [
        "x = np.array([1, 2, 3, 4, 5, 1, 2, 1, 1, 1])\n",
        "y = np.array([1, 1, 1, 2, 3, 4, 2, 4, 3, 3])\n",
        "\n",
        "\n",
        "unique_values_x, counts_x = np.unique(x, return_counts=True)\n",
        "most_frequent_value_x = unique_values_x[np.argmax(counts_x)]\n",
        "indices_x = np.where(x == most_frequent_value_x)[0]\n",
        "\n",
        "unique_values_y, counts_y = np.unique(y, return_counts=True)\n",
        "most_frequent_value_y = unique_values_y[np.argmax(counts_y)]\n",
        "indices_y = np.where(y == most_frequent_value_y)[0]\n",
        "\n",
        "\n",
        "print(\"For array x:\")\n",
        "print(\"Most frequent value:\", most_frequent_value_x)\n",
        "print(\"Indices:\", indices_x)\n",
        "\n",
        "print(\"\\nFor array y:\")\n",
        "print(\"Most frequent value:\", most_frequent_value_y)\n",
        "print(\"Indices:\", indices_y)"
      ],
      "metadata": {
        "colab": {
          "base_uri": "https://localhost:8080/"
        },
        "id": "l3tVSzP2r476",
        "outputId": "d4c6fe99-30ce-4e0b-8f02-01c00e1ef2d1"
      },
      "execution_count": 7,
      "outputs": [
        {
          "output_type": "stream",
          "name": "stdout",
          "text": [
            "For array x:\n",
            "Most frequent value: 1\n",
            "Indices: [0 5 7 8 9]\n",
            "\n",
            "For array y:\n",
            "Most frequent value: 1\n",
            "Indices: [0 1 2]\n"
          ]
        }
      ]
    },
    {
      "cell_type": "code",
      "source": [],
      "metadata": {
        "id": "nkOVVCcbudvy"
      },
      "execution_count": null,
      "outputs": []
    },
    {
      "cell_type": "code",
      "source": [
        "gfg = np.matrix('4 1 9; 12 3 1; 4 5 6')\n",
        "\n",
        "# i sum of all elements\n",
        "totalSum = np.sum(gfg)\n",
        "\n",
        "# ii sum of all elements row\n",
        "rowSum = np.sum(gfg, axis=1)\n",
        "\n",
        "# iii sum of all elements column\n",
        "columnSum = np.sum(gfg, axis=0)\n",
        "\n",
        "print(\"Sum of all elements:\", totalSum)\n",
        "print(\"Sum of all elements row-wise:\")\n",
        "print(rowSum)\n",
        "\n",
        "print(\"Sum of all elements column-wise:\")\n",
        "print(columnSum)"
      ],
      "metadata": {
        "colab": {
          "base_uri": "https://localhost:8080/"
        },
        "id": "KTXtA2dbsAL6",
        "outputId": "09be2af5-b1f3-47d0-83b4-72484eed5297"
      },
      "execution_count": 8,
      "outputs": [
        {
          "output_type": "stream",
          "name": "stdout",
          "text": [
            "Sum of all elements: 45\n",
            "Sum of all elements row-wise:\n",
            "[[14]\n",
            " [16]\n",
            " [15]]\n",
            "Sum of all elements column-wise:\n",
            "[[20  9 16]]\n"
          ]
        }
      ]
    }
  ]
}