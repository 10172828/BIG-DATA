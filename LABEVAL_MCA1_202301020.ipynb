{
  "nbformat": 4,
  "nbformat_minor": 0,
  "metadata": {
    "colab": {
      "provenance": [],
      "authorship_tag": "ABX9TyPT1OzdepJ9n//FkFVqAExR",
      "include_colab_link": true
    },
    "kernelspec": {
      "name": "python3",
      "display_name": "Python 3"
    },
    "language_info": {
      "name": "python"
    }
  },
  "cells": [
    {
      "cell_type": "markdown",
      "metadata": {
        "id": "view-in-github",
        "colab_type": "text"
      },
      "source": [
        "<a href=\"https://colab.research.google.com/github/10172828/BIG-DATA/blob/main/LABEVAL_MCA1_202301020.ipynb\" target=\"_parent\"><img src=\"https://colab.research.google.com/assets/colab-badge.svg\" alt=\"Open In Colab\"/></a>"
      ]
    },
    {
      "cell_type": "code",
      "source": [
        "import numpy as np\n",
        "\n",
        "# Define matrices\n",
        "p = np.array([[1, 2],\n",
        "              [2, 3]])\n",
        "\n",
        "q = np.array([[4, 5],\n",
        "              [6, 7]])\n",
        "\n",
        "# Matrix multiplication\n",
        "result = np.dot(p,q)\n",
        "print(\"Matrix multiplication result:\")\n",
        "print(result)\n",
        "\n",
        "# Calculate covariance between matrices\n",
        "covariance = np.cov(p.flatten(), q.flatten())\n",
        "print(\"\\nCovariance between matrices:\")\n",
        "print(covariance)"
      ],
      "metadata": {
        "colab": {
          "base_uri": "https://localhost:8080/"
        },
        "id": "0N09psyRydcz",
        "outputId": "a1f12c82-6363-412f-80b9-29b82b2f5e60"
      },
      "execution_count": 3,
      "outputs": [
        {
          "output_type": "stream",
          "name": "stdout",
          "text": [
            "Matrix multiplication result:\n",
            "[[16 19]\n",
            " [26 31]]\n",
            "\n",
            "Covariance between matrices:\n",
            "[[0.66666667 1.        ]\n",
            " [1.         1.66666667]]\n"
          ]
        }
      ]
    }
  ]
}