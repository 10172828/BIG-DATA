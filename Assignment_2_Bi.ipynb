{
  "nbformat": 4,
  "nbformat_minor": 0,
  "metadata": {
    "colab": {
      "provenance": [],
      "authorship_tag": "ABX9TyNqMqtTP/oefJkIkoSASW3p",
      "include_colab_link": true
    },
    "kernelspec": {
      "name": "python3",
      "display_name": "Python 3"
    },
    "language_info": {
      "name": "python"
    }
  },
  "cells": [
    {
      "cell_type": "markdown",
      "metadata": {
        "id": "view-in-github",
        "colab_type": "text"
      },
      "source": [
        "<a href=\"https://colab.research.google.com/github/10172828/BIG-DATA/blob/main/Assignment_2_Bi.ipynb\" target=\"_parent\"><img src=\"https://colab.research.google.com/assets/colab-badge.svg\" alt=\"Open In Colab\"/></a>"
      ]
    },
    {
      "cell_type": "code",
      "execution_count": null,
      "metadata": {
        "colab": {
          "base_uri": "https://localhost:8080/"
        },
        "id": "5CwU4fWg-wY5",
        "outputId": "f4551102-04f8-44f9-f05b-1569ab55c472"
      },
      "outputs": [
        {
          "output_type": "stream",
          "name": "stdout",
          "text": [
            "[5 4 6 3 2 1]\n"
          ]
        }
      ],
      "source": [
        "import numpy as np\n",
        "a=np.array([1,2,3,6,4,5])\n",
        "print(np.flip(a))"
      ]
    },
    {
      "cell_type": "code",
      "source": [
        "b=np.array([[1,2],[3,4]])\n",
        "c=np.array([[1,2],[3,4]])\n",
        "print(b==c)"
      ],
      "metadata": {
        "colab": {
          "base_uri": "https://localhost:8080/"
        },
        "id": "0caIx4R0-6nI",
        "outputId": "e8eccc7a-05c9-4c30-b3b3-ed8d22143cf6"
      },
      "execution_count": null,
      "outputs": [
        {
          "output_type": "stream",
          "name": "stdout",
          "text": [
            "[[ True  True]\n",
            " [ True  True]]\n"
          ]
        }
      ]
    },
    {
      "cell_type": "code",
      "source": [
        "x = np.matrix(\"[4, 1, 9; 12, 3, 1; 4, 5, 6]\")\n",
        "print(x)\n",
        "print(f\"The sum of matrix is {np.sum(x)}\")\n",
        "print(f\"The sum of all rows are {x.sum(axis=1)}\")\n",
        "print(f\"The sum of all columns  are {x.sum(axis=0)}\")"
      ],
      "metadata": {
        "colab": {
          "base_uri": "https://localhost:8080/"
        },
        "id": "OLqfiD3k_CD8",
        "outputId": "88330003-4138-4da8-8b1a-ae47d7d1f691"
      },
      "execution_count": null,
      "outputs": [
        {
          "output_type": "stream",
          "name": "stdout",
          "text": [
            "[[ 4  1  9]\n",
            " [12  3  1]\n",
            " [ 4  5  6]]\n",
            "The sum of matrix is 45\n",
            "The sum of all rows are [[14]\n",
            " [16]\n",
            " [15]]\n",
            "The sum of all columns  are [[20  9 16]]\n"
          ]
        }
      ]
    },
    {
      "cell_type": "code",
      "source": [
        "x = np.array([1,2,3,4,5,1,2,1,1,1])\n",
        "y = np.array([1,1,1, 2, 3, 4, 2, 4, 3, 3])\n",
        "print(f\"The most frequent value in  first array is : {np.bincount(x).argmax()}\")\n",
        "print(f\"The index of most frequent values of first array are {np.where(x==(np.bincount(x).argmax()))}\")\n",
        "print(f\"The most frequent value in  second array is : {np.bincount(y).argmax()}\")\n",
        "print(f\"The index of most frequent values of second array are {np.where(y==(np.bincount(y).argmax()))}\")"
      ],
      "metadata": {
        "colab": {
          "base_uri": "https://localhost:8080/"
        },
        "id": "CE7qq2ze--Jy",
        "outputId": "4118f7d5-29b4-4ed5-a8ff-caad5b7c4c27"
      },
      "execution_count": null,
      "outputs": [
        {
          "output_type": "stream",
          "name": "stdout",
          "text": [
            "The most frequent value in  first array is : 1\n",
            "The index of most frequent values of first array are (array([0, 5, 7, 8, 9]),)\n",
            "The most frequent value in  second array is : 1\n",
            "The index of most frequent values of second array are (array([0, 1, 2]),)\n"
          ]
        }
      ]
    }
  ]
}